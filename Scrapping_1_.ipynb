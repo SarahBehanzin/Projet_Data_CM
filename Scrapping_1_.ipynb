{
 "cells": [
  {
   "cell_type": "code",
   "execution_count": 2,
   "id": "3433af00",
   "metadata": {},
   "outputs": [],
   "source": [
    "import requests\n",
    "from bs4 import BeautifulSoup\n",
    "#!pip install scrapy"
   ]
  },
  {
   "cell_type": "code",
   "execution_count": 90,
   "id": "01e5531c",
   "metadata": {
    "scrolled": true
   },
   "outputs": [
    {
     "data": {
      "text/plain": [
       "['https://www.fifa.com/fr/tournaments/mens/worldcup/2018russia',\n",
       " 'https://www.fifa.com/fr/tournaments/mens/worldcup/2014brazil',\n",
       " 'https://www.fifa.com/fr/tournaments/mens/worldcup/2010south-africa',\n",
       " 'https://www.fifa.com/fr/tournaments/mens/worldcup/2006germany',\n",
       " 'https://www.fifa.com/fr/tournaments/mens/worldcup/2002korea-japan',\n",
       " 'https://www.fifa.com/fr/tournaments/mens/worldcup/1998france',\n",
       " 'https://www.fifa.com/fr/tournaments/mens/worldcup/1994usa',\n",
       " 'https://www.fifa.com/fr/tournaments/mens/worldcup/1990italy',\n",
       " 'https://www.fifa.com/fr/tournaments/mens/worldcup/1986mexico',\n",
       " 'https://www.fifa.com/fr/tournaments/mens/worldcup/1982spain',\n",
       " 'https://www.fifa.com/fr/tournaments/mens/worldcup/1978argentina',\n",
       " 'https://www.fifa.com/fr/tournaments/mens/worldcup/1974germany',\n",
       " 'https://www.fifa.com/fr/tournaments/mens/worldcup/1970mexico',\n",
       " 'https://www.fifa.com/fr/tournaments/mens/worldcup/1966england',\n",
       " 'https://www.fifa.com/fr/tournaments/mens/worldcup/1962chile',\n",
       " 'https://www.fifa.com/fr/tournaments/mens/worldcup/1958sweden',\n",
       " 'https://www.fifa.com/fr/tournaments/mens/worldcup/1954switzerland',\n",
       " 'https://www.fifa.com/fr/tournaments/mens/worldcup/1950brazil',\n",
       " 'https://www.fifa.com/fr/tournaments/mens/worldcup/1938france',\n",
       " 'https://www.fifa.com/fr/tournaments/mens/worldcup/1934italy',\n",
       " 'https://www.fifa.com/fr/tournaments/mens/worldcup/1930uruguay']"
      ]
     },
     "execution_count": 90,
     "metadata": {},
     "output_type": "execute_result"
    }
   ],
   "source": [
    "main_url = \"https://www.fifa.com/fr/tournaments/mens/worldcup\"\n",
    "headers = {\"User-Agent\": \"Mozilla/5.0 (Windows NT 10.0; Win64; x64) AppleWebKit/537.36 (KHTML, like Gecko) Chrome/70.0.3538.77 Safari/537.36\"}\n",
    "response = requests.get(main_url, headers=headers)\n",
    "soup = BeautifulSoup(response.text, 'lxml')\n",
    "all_href = [elt['href'] for elt in soup.findAll('a') if elt.get('href')  ]\n",
    "all_tournaments = ['https://www.fifa.com'+elt for elt in all_href if '/fr/tournaments/mens/worldcup/canadamexicousa2026'!= elt and '/fr/tournaments/mens/worldcup/qatar2022'!=elt if '/fr/tournaments/mens/worldcup/' in elt]\n",
    "all_tournaments"
   ]
  },
  {
   "cell_type": "code",
   "execution_count": 80,
   "id": "2c5a088b",
   "metadata": {},
   "outputs": [
    {
     "name": "stdout",
     "output_type": "stream",
     "text": [
      "Vainqueur : Espagne\n"
     ]
    }
   ],
   "source": [
    "#with open('urls.json','r') as file:\n",
    " #     for row in file:\n",
    "    \n",
    "url = 'https://www.fifa.com/fr/tournaments/mens/worldcup/2010south-africa'\n",
    "headers = {\"User-Agent\": \"Mozilla/5.0 (Windows NT 10.0; Win64; x64) AppleWebKit/537.36 (KHTML, like Gecko) Chrome/70.0.3538.77 Safari/537.36\"}\n",
    "response = requests.get(url, headers=headers)\n",
    "if response.ok:\n",
    "    soup = BeautifulSoup(response.text, 'html.parser')\n",
    "    rank =  soup.find('div',{'class':'fp-tournament-standing_rankDescription__1sEZl'}).find('h6')\n",
    "    name = soup.find('div',{'class':'fp-tournament-standing_teamName__eYSTw'}).find('h3')\n",
    "    print(rank.text+' '+':'+' '+name.text)\n",
    "        "
   ]
  },
  {
   "cell_type": "code",
   "execution_count": 4,
   "id": "b077e2e9",
   "metadata": {},
   "outputs": [
    {
     "name": "stdout",
     "output_type": "stream",
     "text": [
      "Vainqueur : France\n",
      "Deuxième : Croatie\n",
      "Troisième : Belgique\n",
      "Quatrième : Angleterre\n",
      "Vainqueur : Allemagne\n",
      "Deuxième : Argentine\n",
      "Troisième : Pays-Bas\n",
      "Quatrième : Brésil\n",
      "Vainqueur : Espagne\n",
      "Deuxième : Pays-Bas\n",
      "Troisième : Allemagne\n",
      "Quatrième : Uruguay\n",
      "Vainqueur : Italie\n",
      "Deuxième : France\n",
      "Troisième : Allemagne\n",
      "Quatrième : Portugal\n",
      "Vainqueur : Brésil\n",
      "Deuxième : Allemagne\n",
      "Troisième : Turquie\n",
      "Quatrième : République de Corée\n",
      "Vainqueur : France\n",
      "Deuxième : Brésil\n",
      "Troisième : Croatie\n",
      "Quatrième : Pays-Bas\n",
      "Vainqueur : Brésil\n",
      "Deuxième : Italie\n",
      "Troisième : Suède\n",
      "Quatrième : Bulgarie\n",
      "Vainqueur : République Fédérale d'Allemagne\n",
      "Deuxième : Argentine\n",
      "Troisième : Italie\n",
      "Quatrième : Angleterre\n",
      "Vainqueur : Argentine\n",
      "Deuxième : République Fédérale d'Allemagne\n",
      "Troisième : France\n",
      "Quatrième : Belgique\n",
      "Vainqueur : Italie\n",
      "Deuxième : République Fédérale d'Allemagne\n",
      "Troisième : Pologne\n",
      "Quatrième : France\n",
      "Vainqueur : Argentine\n",
      "Deuxième : Pays-Bas\n",
      "Troisième : Brésil\n",
      "Quatrième : Italie\n",
      "Vainqueur : République Fédérale d'Allemagne\n",
      "Deuxième : Pays-Bas\n",
      "Troisième : Pologne\n",
      "Quatrième : Brésil\n",
      "Vainqueur : Brésil\n",
      "Deuxième : Italie\n",
      "Troisième : République Fédérale d'Allemagne\n",
      "Quatrième : Uruguay\n",
      "Vainqueur : Angleterre\n",
      "Deuxième : République Fédérale d'Allemagne\n",
      "Troisième : Portugal\n",
      "Quatrième : Union soviétique\n",
      "Vainqueur : Brésil\n",
      "Deuxième : Tchécoslovaquie\n",
      "Troisième : Chili\n",
      "Quatrième : Yougoslavie\n",
      "Vainqueur : Brésil\n",
      "Deuxième : Suède\n",
      "Troisième : France\n",
      "Quatrième : République Fédérale d'Allemagne\n",
      "Vainqueur : République Fédérale d'Allemagne\n",
      "Deuxième : Hongrie\n",
      "Troisième : Autriche\n",
      "Quatrième : Uruguay\n",
      "Vainqueur : Uruguay\n",
      "Deuxième : Brésil\n",
      "Troisième : Suède\n",
      "Quatrième : Espagne\n",
      "Vainqueur : Italie\n",
      "Deuxième : Hongrie\n",
      "Troisième : Brésil\n",
      "Quatrième : Suède\n",
      "Vainqueur : Italie\n",
      "Deuxième : Tchécoslovaquie\n",
      "Troisième : Allemagne\n",
      "Quatrième : Autriche\n",
      "Vainqueur : Uruguay\n",
      "Deuxième : Argentine\n",
      "Troisième : USA\n",
      "Quatrième : Yougoslavie\n"
     ]
    }
   ],
   "source": [
    "main_url = \"https://www.fifa.com/fr/tournaments/mens/worldcup\"\n",
    "headers = {\"User-Agent\": \"Mozilla/5.0 (Windows NT 10.0; Win64; x64) AppleWebKit/537.36 (KHTML, like Gecko) Chrome/70.0.3538.77 Safari/537.36\"}\n",
    "response = requests.get(main_url, headers=headers)\n",
    "soup = BeautifulSoup(response.text, 'lxml')\n",
    "all_href = [elt['href'] for elt in soup.findAll('a') if elt.get('href')  ]\n",
    "all_tournaments = ['https://www.fifa.com'+elt for elt in all_href if '/fr/tournaments/mens/worldcup/canadamexicousa2026'!= elt and '/fr/tournaments/mens/worldcup/qatar2022'!=elt if '/fr/tournaments/mens/worldcup/' in elt]\n",
    "\n",
    "\n",
    "with open('pays.csv','w') as outf:\n",
    "    outf.write('Vainqueur , equipe\\n')\n",
    "    for row in all_tournaments: #pour chaque lien de la liste  \n",
    "        url = row\n",
    "        response = requests.get(url, headers=headers)\n",
    "        soup = BeautifulSoup(response.text, 'html.parser')\n",
    "        div_rank =  soup.find_all('a',{'class':'fp-tournament-standing_standingRow__mPKma'})\n",
    "        for i in div_rank :\n",
    "            rank = i.find('div',{'class':'fp-tournament-standing_rankDescription__1sEZl'}).find('h6')\n",
    "            name = i.find('div',{'class':'fp-tournament-standing_teamName__eYSTw'}).find('h3')\n",
    "            outf.write(rank.text+' '+':'+' '+name.text+'\\n')\n",
    "            print(rank.text+' '+':'+' '+name.text)\n",
    "\n"
   ]
  },
  {
   "cell_type": "code",
   "execution_count": null,
   "id": "de0bf850",
   "metadata": {},
   "outputs": [],
   "source": [
    "\n",
    "\n"
   ]
  }
 ],
 "metadata": {
  "kernelspec": {
   "display_name": "Python 3 (ipykernel)",
   "language": "python",
   "name": "python3"
  },
  "language_info": {
   "codemirror_mode": {
    "name": "ipython",
    "version": 3
   },
   "file_extension": ".py",
   "mimetype": "text/x-python",
   "name": "python",
   "nbconvert_exporter": "python",
   "pygments_lexer": "ipython3",
   "version": "3.8.5"
  }
 },
 "nbformat": 4,
 "nbformat_minor": 5
}

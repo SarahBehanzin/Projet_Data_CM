{
 "cells": [
  {
   "cell_type": "code",
   "execution_count": 76,
   "id": "3433af00",
   "metadata": {},
   "outputs": [],
   "source": [
    "import requests\n",
    "from bs4 import BeautifulSoup\n",
    "#!pip install scrapy"
   ]
  },
  {
   "cell_type": "code",
   "execution_count": 90,
   "id": "01e5531c",
   "metadata": {
    "scrolled": true
   },
   "outputs": [
    {
     "data": {
      "text/plain": [
       "['https://www.fifa.com/fr/tournaments/mens/worldcup/2018russia',\n",
       " 'https://www.fifa.com/fr/tournaments/mens/worldcup/2014brazil',\n",
       " 'https://www.fifa.com/fr/tournaments/mens/worldcup/2010south-africa',\n",
       " 'https://www.fifa.com/fr/tournaments/mens/worldcup/2006germany',\n",
       " 'https://www.fifa.com/fr/tournaments/mens/worldcup/2002korea-japan',\n",
       " 'https://www.fifa.com/fr/tournaments/mens/worldcup/1998france',\n",
       " 'https://www.fifa.com/fr/tournaments/mens/worldcup/1994usa',\n",
       " 'https://www.fifa.com/fr/tournaments/mens/worldcup/1990italy',\n",
       " 'https://www.fifa.com/fr/tournaments/mens/worldcup/1986mexico',\n",
       " 'https://www.fifa.com/fr/tournaments/mens/worldcup/1982spain',\n",
       " 'https://www.fifa.com/fr/tournaments/mens/worldcup/1978argentina',\n",
       " 'https://www.fifa.com/fr/tournaments/mens/worldcup/1974germany',\n",
       " 'https://www.fifa.com/fr/tournaments/mens/worldcup/1970mexico',\n",
       " 'https://www.fifa.com/fr/tournaments/mens/worldcup/1966england',\n",
       " 'https://www.fifa.com/fr/tournaments/mens/worldcup/1962chile',\n",
       " 'https://www.fifa.com/fr/tournaments/mens/worldcup/1958sweden',\n",
       " 'https://www.fifa.com/fr/tournaments/mens/worldcup/1954switzerland',\n",
       " 'https://www.fifa.com/fr/tournaments/mens/worldcup/1950brazil',\n",
       " 'https://www.fifa.com/fr/tournaments/mens/worldcup/1938france',\n",
       " 'https://www.fifa.com/fr/tournaments/mens/worldcup/1934italy',\n",
       " 'https://www.fifa.com/fr/tournaments/mens/worldcup/1930uruguay']"
      ]
     },
     "execution_count": 90,
     "metadata": {},
     "output_type": "execute_result"
    }
   ],
   "source": [
    "main_url = \"https://www.fifa.com/fr/tournaments/mens/worldcup\"\n",
    "headers = {\"User-Agent\": \"Mozilla/5.0 (Windows NT 10.0; Win64; x64) AppleWebKit/537.36 (KHTML, like Gecko) Chrome/70.0.3538.77 Safari/537.36\"}\n",
    "response = requests.get(main_url, headers=headers)\n",
    "soup = BeautifulSoup(response.text, 'lxml')\n",
    "all_href = [elt['href'] for elt in soup.findAll('a') if elt.get('href')  ]\n",
    "all_tournaments = ['https://www.fifa.com'+elt for elt in all_href if '/fr/tournaments/mens/worldcup/canadamexicousa2026'!= elt and '/fr/tournaments/mens/worldcup/qatar2022'!=elt if '/fr/tournaments/mens/worldcup/' in elt]\n",
    "all_tournaments"
   ]
  },
  {
   "cell_type": "code",
   "execution_count": 78,
   "id": "485a4517",
   "metadata": {},
   "outputs": [],
   "source": [
    "# with open('urls.json','w') as file:\n",
    "#     for link in all_tournaments:\n",
    "#         file.write(link +'\\n')\n",
    "# with open('urls.json','r') as file:\n",
    "#     for row in file:\n",
    "#         print(row)"
   ]
  },
  {
   "cell_type": "code",
   "execution_count": 80,
   "id": "2c5a088b",
   "metadata": {},
   "outputs": [
    {
     "name": "stdout",
     "output_type": "stream",
     "text": [
      "Vainqueur : Espagne\n"
     ]
    }
   ],
   "source": [
    "#with open('urls.json','r') as file:\n",
    " #     for row in file:\n",
    "    \n",
    "url = 'https://www.fifa.com/fr/tournaments/mens/worldcup/2010south-africa'\n",
    "headers = {\"User-Agent\": \"Mozilla/5.0 (Windows NT 10.0; Win64; x64) AppleWebKit/537.36 (KHTML, like Gecko) Chrome/70.0.3538.77 Safari/537.36\"}\n",
    "response = requests.get(url, headers=headers)\n",
    "if response.ok:\n",
    "    soup = BeautifulSoup(response.text, 'html.parser')\n",
    "    rank =  soup.find('div',{'class':'fp-tournament-standing_rankDescription__1sEZl'}).find('h6')\n",
    "    name = soup.find('div',{'class':'fp-tournament-standing_teamName__eYSTw'}).find('h3')\n",
    "    print(rank.text+' '+':'+' '+name.text)\n",
    "        "
   ]
  },
  {
   "cell_type": "code",
   "execution_count": 100,
   "id": "b077e2e9",
   "metadata": {},
   "outputs": [
    {
     "name": "stdout",
     "output_type": "stream",
     "text": [
      "Vainqueur : France\n",
      "Vainqueur : Allemagne\n",
      "Vainqueur : Espagne\n",
      "Vainqueur : Italie\n",
      "Vainqueur : Brésil\n",
      "Vainqueur : France\n",
      "Vainqueur : Brésil\n",
      "Vainqueur : République Fédérale d'Allemagne\n",
      "Vainqueur : Argentine\n",
      "Vainqueur : Italie\n",
      "Vainqueur : Argentine\n",
      "Vainqueur : République Fédérale d'Allemagne\n",
      "Vainqueur : Brésil\n",
      "Vainqueur : Angleterre\n",
      "Vainqueur : Brésil\n",
      "Vainqueur : Brésil\n",
      "Vainqueur : République Fédérale d'Allemagne\n",
      "Vainqueur : Uruguay\n",
      "Vainqueur : Italie\n",
      "Vainqueur : Italie\n",
      "Vainqueur : Uruguay\n"
     ]
    }
   ],
   "source": [
    "main_url = \"https://www.fifa.com/fr/tournaments/mens/worldcup\"\n",
    "headers = {\"User-Agent\": \"Mozilla/5.0 (Windows NT 10.0; Win64; x64) AppleWebKit/537.36 (KHTML, like Gecko) Chrome/70.0.3538.77 Safari/537.36\"}\n",
    "response = requests.get(main_url, headers=headers)\n",
    "soup = BeautifulSoup(response.text, 'lxml')\n",
    "all_href = [elt['href'] for elt in soup.findAll('a') if elt.get('href')  ]\n",
    "all_tournaments = ['https://www.fifa.com'+elt for elt in all_href if '/fr/tournaments/mens/worldcup/canadamexicousa2026'!= elt and '/fr/tournaments/mens/worldcup/qatar2022'!=elt if '/fr/tournaments/mens/worldcup/' in elt]\n",
    "\n",
    "\n",
    "with open('pays.csv','w') as outf:\n",
    "    outf.write('Vainqueur , equipe\\n')\n",
    "    for row in all_tournaments: #pour chaque lien de la liste  \n",
    "        url = row\n",
    "        response = requests.get(url, headers=headers)\n",
    "        soup = BeautifulSoup(response.text, 'html.parser')\n",
    "        rank =  soup.find('div',{'class':'fp-tournament-standing_rankDescription__1sEZl'}).find('h6')\n",
    "        name = soup.find('div',{'class':'fp-tournament-standing_teamName__eYSTw'}).find('h3')\n",
    "        print(rank.text+' '+':'+' '+name.text)\n",
    "        outf.write(rank.text+' '+':'+' '+name.text+'\\n')"
   ]
  },
  {
   "cell_type": "code",
   "execution_count": null,
   "id": "de0bf850",
   "metadata": {},
   "outputs": [],
   "source": []
  },
  {
   "cell_type": "code",
   "execution_count": null,
   "id": "e92a031a",
   "metadata": {},
   "outputs": [],
   "source": []
  },
  {
   "cell_type": "code",
   "execution_count": null,
   "id": "977ba094",
   "metadata": {},
   "outputs": [],
   "source": []
  },
  {
   "cell_type": "code",
   "execution_count": null,
   "id": "c9793258",
   "metadata": {},
   "outputs": [],
   "source": []
  }
 ],
 "metadata": {
  "kernelspec": {
   "display_name": "Python 3 (ipykernel)",
   "language": "python",
   "name": "python3"
  },
  "language_info": {
   "codemirror_mode": {
    "name": "ipython",
    "version": 3
   },
   "file_extension": ".py",
   "mimetype": "text/x-python",
   "name": "python",
   "nbconvert_exporter": "python",
   "pygments_lexer": "ipython3",
   "version": "3.8.12"
  }
 },
 "nbformat": 4,
 "nbformat_minor": 5
}

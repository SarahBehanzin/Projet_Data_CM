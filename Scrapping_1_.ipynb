{
 "cells": [
  {
   "cell_type": "code",
   "execution_count": 2,
   "id": "3433af00",
   "metadata": {},
   "outputs": [],
   "source": [
    "import requests\n",
    "from bs4 import BeautifulSoup\n",
    "#!pip install scrapy"
   ]
  },
  {
   "cell_type": "code",
   "execution_count": 54,
   "id": "01e5531c",
   "metadata": {
    "scrolled": true
   },
   "outputs": [],
   "source": [
    "main_url = \"https://www.fifa.com/fr/tournaments/mens/worldcup\"\n",
    "headers = {\"User-Agent\": \"Mozilla/5.0 (Windows NT 10.0; Win64; x64) AppleWebKit/537.36 (KHTML, like Gecko) Chrome/70.0.3538.77 Safari/537.36\"}\n",
    "response = requests.get(main_url, headers=headers)\n",
    "soup = BeautifulSoup(response.text, 'lxml')\n",
    "all_href = [elt['href'] for elt in soup.findAll('a') if elt.get('href')  ]\n",
    "all_tournaments = ['https://www.fifa.com'+elt for elt in all_href if '/fr/tournaments/mens/worldcup/' in elt]"
   ]
  },
  {
   "cell_type": "code",
   "execution_count": 28,
   "id": "6a29fe1c",
   "metadata": {},
   "outputs": [],
   "source": [
    "with open('urls.json','w') as file:\n",
    "    for link in all_tournaments:\n",
    "        file.write(link +'\\n')"
   ]
  },
  {
   "cell_type": "code",
   "execution_count": 58,
   "id": "398ab17b",
   "metadata": {},
   "outputs": [
    {
     "name": "stdout",
     "output_type": "stream",
     "text": [
      "https://www.fifa.com/fr/tournaments/mens/worldcup/canadamexicousa2026\n",
      "\n",
      "https://www.fifa.com/fr/tournaments/mens/worldcup/qatar2022\n",
      "\n",
      "https://www.fifa.com/fr/tournaments/mens/worldcup/2018russia\n",
      "\n",
      "https://www.fifa.com/fr/tournaments/mens/worldcup/2014brazil\n",
      "\n",
      "https://www.fifa.com/fr/tournaments/mens/worldcup/2010south-africa\n",
      "\n",
      "https://www.fifa.com/fr/tournaments/mens/worldcup/2006germany\n",
      "\n",
      "https://www.fifa.com/fr/tournaments/mens/worldcup/2002korea-japan\n",
      "\n",
      "https://www.fifa.com/fr/tournaments/mens/worldcup/1998france\n",
      "\n",
      "https://www.fifa.com/fr/tournaments/mens/worldcup/1994usa\n",
      "\n",
      "https://www.fifa.com/fr/tournaments/mens/worldcup/1990italy\n",
      "\n",
      "https://www.fifa.com/fr/tournaments/mens/worldcup/1986mexico\n",
      "\n",
      "https://www.fifa.com/fr/tournaments/mens/worldcup/1982spain\n",
      "\n",
      "https://www.fifa.com/fr/tournaments/mens/worldcup/1978argentina\n",
      "\n",
      "https://www.fifa.com/fr/tournaments/mens/worldcup/1974germany\n",
      "\n",
      "https://www.fifa.com/fr/tournaments/mens/worldcup/1970mexico\n",
      "\n",
      "https://www.fifa.com/fr/tournaments/mens/worldcup/1966england\n",
      "\n",
      "https://www.fifa.com/fr/tournaments/mens/worldcup/1962chile\n",
      "\n",
      "https://www.fifa.com/fr/tournaments/mens/worldcup/1958sweden\n",
      "\n",
      "https://www.fifa.com/fr/tournaments/mens/worldcup/1954switzerland\n",
      "\n",
      "https://www.fifa.com/fr/tournaments/mens/worldcup/1950brazil\n",
      "\n",
      "https://www.fifa.com/fr/tournaments/mens/worldcup/1938france\n",
      "\n",
      "https://www.fifa.com/fr/tournaments/mens/worldcup/1934italy\n",
      "\n",
      "https://www.fifa.com/fr/tournaments/mens/worldcup/1930uruguay\n",
      "\n"
     ]
    }
   ],
   "source": [
    "with open('urls.json','r') as file:\n",
    "    for row in file:\n",
    "        print(row)"
   ]
  },
  {
   "cell_type": "code",
   "execution_count": 51,
   "id": "41b66405",
   "metadata": {},
   "outputs": [
    {
     "name": "stdout",
     "output_type": "stream",
     "text": [
      "Vainqueur : Espagne\n"
     ]
    }
   ],
   "source": [
    "#with open('urls.json','r') as file:\n",
    " #     for row in file:\n",
    "url = 'https://www.fifa.com/fr/tournaments/mens/worldcup/2010south-africa'\n",
    "headers = {\"User-Agent\": \"Mozilla/5.0 (Windows NT 10.0; Win64; x64) AppleWebKit/537.36 (KHTML, like Gecko) Chrome/70.0.3538.77 Safari/537.36\"}\n",
    "response = requests.get(url, headers=headers)\n",
    "if response.ok:\n",
    "    soup = BeautifulSoup(response.text, 'html.parser')\n",
    "    rank =  soup.find('div',{'class':'fp-tournament-standing_rankDescription__1sEZl'}).find('h6')\n",
    "    name = soup.find('div',{'class':'fp-tournament-standing_teamName__eYSTw'}).find('h3')\n",
    "    print(rank.text+' '+':'+' '+name.text)\n",
    "        "
   ]
  },
  {
   "cell_type": "code",
   "execution_count": null,
   "id": "07cb68c7",
   "metadata": {},
   "outputs": [],
   "source": []
  },
  {
   "cell_type": "code",
   "execution_count": null,
   "id": "0d15456f",
   "metadata": {},
   "outputs": [],
   "source": []
  },
  {
   "cell_type": "code",
   "execution_count": null,
   "id": "f4fa6c8f",
   "metadata": {},
   "outputs": [],
   "source": []
  },
  {
   "cell_type": "code",
   "execution_count": null,
   "id": "ade44002",
   "metadata": {},
   "outputs": [],
   "source": []
  },
  {
   "cell_type": "code",
   "execution_count": null,
   "id": "c9793258",
   "metadata": {},
   "outputs": [],
   "source": []
  }
 ],
 "metadata": {
  "kernelspec": {
   "display_name": "Python 3 (ipykernel)",
   "language": "python",
   "name": "python3"
  },
  "language_info": {
   "codemirror_mode": {
    "name": "ipython",
    "version": 3
   },
   "file_extension": ".py",
   "mimetype": "text/x-python",
   "name": "python",
   "nbconvert_exporter": "python",
   "pygments_lexer": "ipython3",
   "version": "3.8.12"
  }
 },
 "nbformat": 4,
 "nbformat_minor": 5
}

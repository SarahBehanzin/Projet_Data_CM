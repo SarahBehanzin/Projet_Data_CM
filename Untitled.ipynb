{
 "cells": [
  {
   "cell_type": "code",
   "execution_count": 9,
   "id": "b4fdd90d",
   "metadata": {},
   "outputs": [
    {
     "name": "stdout",
     "output_type": "stream",
     "text": [
      "Vainqueur : France\n"
     ]
    }
   ],
   "source": [
    "import requests\n",
    "from bs4 import BeautifulSoup\n",
    "\n",
    "main_url = \"https://www.fifa.com/fr/tournaments/mens/worldcup/2018russia\"\n",
    "headers = {\"User-Agent\": \"Mozilla/5.0 (Windows NT 10.0; Win64; x64) AppleWebKit/537.36 (KHTML, like Gecko) Chrome/70.0.3538.77 Safari/537.36\"}\n",
    "response = requests.get(main_url, headers=headers)\n",
    "if response.ok:\n",
    "    soup = BeautifulSoup(response.text, 'lxml')\n",
    "    rank =  soup.find('div',{'class':'fp-tournament-standing_rankDescription__1sEZl'}).find('h6')\n",
    "    name = soup.find('div',{'class':'fp-tournament-standing_teamName__eYSTw'}).find('h3')\n",
    "    print(rank.text+' '+':'+' '+name.text)"
   ]
  },
  {
   "cell_type": "code",
   "execution_count": null,
   "id": "6c7ec46b",
   "metadata": {},
   "outputs": [],
   "source": [
    "class CDMFoot(scrapy.Spider):\n",
    "    name = \"Podium\"\n",
    "    start_urls = [\"http://evene.lefigaro.fr/citations/winston-churchill\",]\n",
    "\n",
    "    def parse(self, response):\n",
    "        for cit in response.xpath('//div[@class=\"fp-tournament-standing_winner__UbVSR\"]'):\n",
    "            classement = cit.xpath('h6/text()').extract_first()\n",
    "            equipe  = cit.xpath('h3/text()').extract_first() \n",
    "            yield { 'text' : text_value }"
   ]
  }
 ],
 "metadata": {
  "kernelspec": {
   "display_name": "Python 3 (ipykernel)",
   "language": "python",
   "name": "python3"
  },
  "language_info": {
   "codemirror_mode": {
    "name": "ipython",
    "version": 3
   },
   "file_extension": ".py",
   "mimetype": "text/x-python",
   "name": "python",
   "nbconvert_exporter": "python",
   "pygments_lexer": "ipython3",
   "version": "3.8.12"
  }
 },
 "nbformat": 4,
 "nbformat_minor": 5
}
